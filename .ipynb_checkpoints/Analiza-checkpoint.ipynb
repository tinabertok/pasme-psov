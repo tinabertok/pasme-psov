{
 "cells": [
  {
   "cell_type": "markdown",
   "metadata": {},
   "source": [
    "# Analiza pasem psov"
   ]
  },
  {
   "cell_type": "markdown",
   "metadata": {},
   "source": [
    "V svoji projektni nalogi bom analizirala 369 pasem psov. Za vsako pasmo bom predstavila njeno ime, iz katere države pasma izbira, velikost, povprečno življensko dobo, ceno mladička, popularnost in značaj psa. Pri podatkih, kjer so manjkajoče informacije se nahaja znak '/'. "
   ]
  },
  {
   "cell_type": "code",
   "execution_count": 6,
   "metadata": {},
   "outputs": [],
   "source": [
    "# naložimo paket\n",
    "import pandas as pd\n",
    "#nalozimo paket za delo z grafi\n",
    "import matplotlib.pyplot as plt\n",
    "\n",
    "# naložimo razpredelnico, s katero bomo delali\n",
    "pasme_psov = pd.read_csv('obdelani-podatki/vse_pasme.csv')\n",
    "\n",
    "# ker bomo delali z velikimi razpredelnicami, povemo, da naj se vedno izpiše le 20 vrstic\n",
    "pd.options.display.max_rows = 20"
   ]
  },
  {
   "cell_type": "code",
   "execution_count": 7,
   "metadata": {},
   "outputs": [
    {
     "data": {
      "text/html": [
       "<div>\n",
       "<style scoped>\n",
       "    .dataframe tbody tr th:only-of-type {\n",
       "        vertical-align: middle;\n",
       "    }\n",
       "\n",
       "    .dataframe tbody tr th {\n",
       "        vertical-align: top;\n",
       "    }\n",
       "\n",
       "    .dataframe thead th {\n",
       "        text-align: right;\n",
       "    }\n",
       "</style>\n",
       "<table border=\"1\" class=\"dataframe\">\n",
       "  <thead>\n",
       "    <tr style=\"text-align: right;\">\n",
       "      <th></th>\n",
       "      <th>ime</th>\n",
       "      <th>drzava</th>\n",
       "      <th>zivljenska_doba</th>\n",
       "      <th>visina</th>\n",
       "      <th>velikost</th>\n",
       "      <th>popularnost</th>\n",
       "      <th>cena</th>\n",
       "      <th>znacaj</th>\n",
       "    </tr>\n",
       "  </thead>\n",
       "  <tbody>\n",
       "    <tr>\n",
       "      <th>0</th>\n",
       "      <td>Labrador Retriever</td>\n",
       "      <td>Canada</td>\n",
       "      <td>10-12 years</td>\n",
       "      <td>22-24 inches (56-61cm)</td>\n",
       "      <td>Medium</td>\n",
       "      <td>1</td>\n",
       "      <td>$1000 - $2000</td>\n",
       "      <td>['Affectionate', 'Alert', 'Cheerful', 'Energet...</td>\n",
       "    </tr>\n",
       "    <tr>\n",
       "      <th>1</th>\n",
       "      <td>German Shepherd</td>\n",
       "      <td>Germany</td>\n",
       "      <td>10-13 years</td>\n",
       "      <td>24-26 inches (60-65 cm)</td>\n",
       "      <td>Medium</td>\n",
       "      <td>2</td>\n",
       "      <td>$800 - $2000</td>\n",
       "      <td>['Alert', 'Confident', 'Courageous', 'Curious'...</td>\n",
       "    </tr>\n",
       "    <tr>\n",
       "      <th>2</th>\n",
       "      <td>Golden Retriever</td>\n",
       "      <td>United Kingdom</td>\n",
       "      <td>10-12 years</td>\n",
       "      <td>22-24 inches (56-61cm)</td>\n",
       "      <td>Medium</td>\n",
       "      <td>3</td>\n",
       "      <td>$1000 - $2000</td>\n",
       "      <td>['Confident', 'Friendly', 'Intelligent', 'Kind...</td>\n",
       "    </tr>\n",
       "    <tr>\n",
       "      <th>3</th>\n",
       "      <td>French Bulldog</td>\n",
       "      <td>France</td>\n",
       "      <td>10-12 years</td>\n",
       "      <td>12 inches (30 cm)</td>\n",
       "      <td>Small</td>\n",
       "      <td>4</td>\n",
       "      <td>$2000 - $4000</td>\n",
       "      <td>['Affectionate', 'Playful', 'Alert', 'Athletic...</td>\n",
       "    </tr>\n",
       "    <tr>\n",
       "      <th>4</th>\n",
       "      <td>Bulldog</td>\n",
       "      <td>United Kingdom</td>\n",
       "      <td>8-10 years</td>\n",
       "      <td>12-16 inches (31-40 cm)</td>\n",
       "      <td>Medium</td>\n",
       "      <td>5</td>\n",
       "      <td>$1200 - $2000</td>\n",
       "      <td>['Aggressive', 'Courageous', 'Friendly', 'Lovi...</td>\n",
       "    </tr>\n",
       "    <tr>\n",
       "      <th>5</th>\n",
       "      <td>Beagle</td>\n",
       "      <td>United Kingdom</td>\n",
       "      <td>12-15 years</td>\n",
       "      <td>14-16 inches (36-41 cm)</td>\n",
       "      <td>Small</td>\n",
       "      <td>6</td>\n",
       "      <td>$500 - $800</td>\n",
       "      <td>['Friendly', 'Gentle', 'Independent', 'Intelli...</td>\n",
       "    </tr>\n",
       "    <tr>\n",
       "      <th>6</th>\n",
       "      <td>Poodle (Standard)</td>\n",
       "      <td>France</td>\n",
       "      <td>12-15 years</td>\n",
       "      <td>15 inches (38 cm) or mor</td>\n",
       "      <td>Medium</td>\n",
       "      <td>7</td>\n",
       "      <td>$1000 - $1500</td>\n",
       "      <td>['Active', 'Alert', 'Faithful', 'Instinctual',...</td>\n",
       "    </tr>\n",
       "    <tr>\n",
       "      <th>7</th>\n",
       "      <td>Rottweiler</td>\n",
       "      <td>Germany</td>\n",
       "      <td>8-11 years</td>\n",
       "      <td>24-27 inches (61-69 cm)</td>\n",
       "      <td>Medium</td>\n",
       "      <td>8</td>\n",
       "      <td>$1200 - $2000</td>\n",
       "      <td>['Alert', 'Courageous', 'Fearless', 'Good-natu...</td>\n",
       "    </tr>\n",
       "    <tr>\n",
       "      <th>8</th>\n",
       "      <td>Yorkshire Terrier</td>\n",
       "      <td>United Kingdom</td>\n",
       "      <td>12-16 years</td>\n",
       "      <td>20-23 cm (8-9 inches)</td>\n",
       "      <td>Small</td>\n",
       "      <td>9</td>\n",
       "      <td>$600 - $1000</td>\n",
       "      <td>['Alert', 'Courageous', 'Energetic', 'Independ...</td>\n",
       "    </tr>\n",
       "    <tr>\n",
       "      <th>9</th>\n",
       "      <td>German Shorthaired Pointer</td>\n",
       "      <td>Germany</td>\n",
       "      <td>12-14 years</td>\n",
       "      <td>23-25 inches (59-64 cm)</td>\n",
       "      <td>Medium</td>\n",
       "      <td>10</td>\n",
       "      <td>$600 - $800</td>\n",
       "      <td>['Affectionate', 'Boisterous', 'Bold', 'Cooper...</td>\n",
       "    </tr>\n",
       "  </tbody>\n",
       "</table>\n",
       "</div>"
      ],
      "text/plain": [
       "                          ime           drzava zivljenska_doba  \\\n",
       "0          Labrador Retriever           Canada     10-12 years   \n",
       "1             German Shepherd          Germany     10-13 years   \n",
       "2            Golden Retriever   United Kingdom     10-12 years   \n",
       "3              French Bulldog          France      10-12 years   \n",
       "4                     Bulldog   United Kingdom      8-10 years   \n",
       "5                      Beagle   United Kingdom     12-15 years   \n",
       "6           Poodle (Standard)           France     12-15 years   \n",
       "7                  Rottweiler          Germany      8-11 years   \n",
       "8           Yorkshire Terrier   United Kingdom     12-16 years   \n",
       "9  German Shorthaired Pointer          Germany     12-14 years   \n",
       "\n",
       "                     visina velikost popularnost           cena  \\\n",
       "0    22-24 inches (56-61cm)   Medium           1  $1000 - $2000   \n",
       "1   24-26 inches (60-65 cm)   Medium           2   $800 - $2000   \n",
       "2    22-24 inches (56-61cm)   Medium           3  $1000 - $2000   \n",
       "3         12 inches (30 cm)    Small           4  $2000 - $4000   \n",
       "4   12-16 inches (31-40 cm)   Medium           5  $1200 - $2000   \n",
       "5   14-16 inches (36-41 cm)    Small           6    $500 - $800   \n",
       "6  15 inches (38 cm) or mor   Medium           7  $1000 - $1500   \n",
       "7   24-27 inches (61-69 cm)   Medium           8  $1200 - $2000   \n",
       "8     20-23 cm (8-9 inches)    Small           9   $600 - $1000   \n",
       "9   23-25 inches (59-64 cm)   Medium          10    $600 - $800   \n",
       "\n",
       "                                              znacaj  \n",
       "0  ['Affectionate', 'Alert', 'Cheerful', 'Energet...  \n",
       "1  ['Alert', 'Confident', 'Courageous', 'Curious'...  \n",
       "2  ['Confident', 'Friendly', 'Intelligent', 'Kind...  \n",
       "3  ['Affectionate', 'Playful', 'Alert', 'Athletic...  \n",
       "4  ['Aggressive', 'Courageous', 'Friendly', 'Lovi...  \n",
       "5  ['Friendly', 'Gentle', 'Independent', 'Intelli...  \n",
       "6  ['Active', 'Alert', 'Faithful', 'Instinctual',...  \n",
       "7  ['Alert', 'Courageous', 'Fearless', 'Good-natu...  \n",
       "8  ['Alert', 'Courageous', 'Energetic', 'Independ...  \n",
       "9  ['Affectionate', 'Boisterous', 'Bold', 'Cooper...  "
      ]
     },
     "execution_count": 7,
     "metadata": {},
     "output_type": "execute_result"
    }
   ],
   "source": [
    "pasme_psov.head(10)"
   ]
  },
  {
   "cell_type": "code",
   "execution_count": 8,
   "metadata": {},
   "outputs": [
    {
     "data": {
      "text/plain": [
       "drzava\n",
       " Afghanistan             1\n",
       " Israel                  1\n",
       " Macedonia               1\n",
       " Madagascar              1\n",
       "Middle East              1\n",
       " Malta                   1\n",
       " Morocco                 1\n",
       " Morocco (Std. resp.)    1\n",
       " Pakistan                1\n",
       " Papua New Guinea        1\n",
       "dtype: int64"
      ]
     },
     "execution_count": 8,
     "metadata": {},
     "output_type": "execute_result"
    }
   ],
   "source": [
    "pasme_drzav = pasme_psov.groupby('drzava')\n",
    "pasme_drzav.size().sort_values().head(10)"
   ]
  },
  {
   "cell_type": "code",
   "execution_count": 9,
   "metadata": {},
   "outputs": [
    {
     "data": {
      "text/plain": [
       "drzava\n",
       " Japan              9\n",
       " Spain              9\n",
       " Belgium            9\n",
       " Australia         10\n",
       " Italy             13\n",
       " Russia            13\n",
       " Germany           31\n",
       " France            32\n",
       " United States     51\n",
       " United Kingdom    61\n",
       "dtype: int64"
      ]
     },
     "execution_count": 9,
     "metadata": {},
     "output_type": "execute_result"
    }
   ],
   "source": [
    "pasme_drzav.size().sort_values().tail(10)"
   ]
  },
  {
   "cell_type": "markdown",
   "metadata": {},
   "source": [
    "Iz zgornjih tabel lahko vidimo, da največ pasem psov izvira iz Velike Britanije, ZDA, Francije ter Nemčije. Države z najmanj lastnimi pasmami pa so Afganistan, Izrael, Makedonija, Malta..."
   ]
  },
  {
   "cell_type": "code",
   "execution_count": 18,
   "metadata": {},
   "outputs": [
    {
     "data": {
      "text/plain": [
       "0        1\n",
       "1        2\n",
       "2        3\n",
       "3        4\n",
       "4        5\n",
       "5        6\n",
       "6        7\n",
       "7        8\n",
       "8        9\n",
       "9       10\n",
       "      ... \n",
       "180    181\n",
       "181    182\n",
       "182    183\n",
       "183    184\n",
       "184    185\n",
       "185    186\n",
       "186    187\n",
       "187    188\n",
       "188    189\n",
       "189    190\n",
       "Name: popularnost, Length: 190, dtype: int32"
      ]
     },
     "execution_count": 18,
     "metadata": {},
     "output_type": "execute_result"
    }
   ],
   "source": [
    "pasme_psov.popularnost.head(190).astype('int')"
   ]
  },
  {
   "cell_type": "code",
   "execution_count": 19,
   "metadata": {},
   "outputs": [
    {
     "ename": "TypeError",
     "evalue": "'<=' not supported between instances of 'str' and 'int'",
     "output_type": "error",
     "traceback": [
      "\u001b[1;31m---------------------------------------------------------------------------\u001b[0m",
      "\u001b[1;31mTypeError\u001b[0m                                 Traceback (most recent call last)",
      "\u001b[1;32m<ipython-input-19-b79e457e6b5c>\u001b[0m in \u001b[0;36m<module>\u001b[1;34m\u001b[0m\n\u001b[1;32m----> 1\u001b[1;33m \u001b[0mnajbolj_priljubljene\u001b[0m \u001b[1;33m=\u001b[0m \u001b[0mpasme_psov\u001b[0m\u001b[1;33m[\u001b[0m\u001b[0mpasme_psov\u001b[0m\u001b[1;33m.\u001b[0m\u001b[0mpopularnost\u001b[0m \u001b[1;33m<=\u001b[0m \u001b[1;36m10\u001b[0m\u001b[1;33m]\u001b[0m\u001b[1;33m.\u001b[0m\u001b[0msort_values\u001b[0m\u001b[1;33m(\u001b[0m\u001b[1;34m'popularnost'\u001b[0m\u001b[1;33m,\u001b[0m \u001b[0mascending\u001b[0m \u001b[1;33m=\u001b[0m \u001b[1;32mFalse\u001b[0m\u001b[1;33m)\u001b[0m\u001b[1;33m\u001b[0m\u001b[1;33m\u001b[0m\u001b[0m\n\u001b[0m\u001b[0;32m      2\u001b[0m \u001b[0mnajbolj_priljubljene_pasme\u001b[0m \u001b[1;33m=\u001b[0m \u001b[0mnajbolj_priljubljene\u001b[0m\u001b[1;33m.\u001b[0m\u001b[0mgroupby\u001b[0m\u001b[1;33m(\u001b[0m\u001b[1;34m'drzava'\u001b[0m\u001b[1;33m)\u001b[0m\u001b[1;33m\u001b[0m\u001b[1;33m\u001b[0m\u001b[0m\n\u001b[0;32m      3\u001b[0m \u001b[0mtop_10\u001b[0m \u001b[1;33m=\u001b[0m \u001b[0mnajbolj_priljubljene_pasme\u001b[0m\u001b[1;33m.\u001b[0m\u001b[0msize\u001b[0m\u001b[1;33m(\u001b[0m\u001b[1;33m)\u001b[0m\u001b[1;33m.\u001b[0m\u001b[0msort_values\u001b[0m\u001b[1;33m(\u001b[0m\u001b[0mascending\u001b[0m \u001b[1;33m=\u001b[0m \u001b[1;32mFalse\u001b[0m\u001b[1;33m)\u001b[0m\u001b[1;33m.\u001b[0m\u001b[0mhead\u001b[0m\u001b[1;33m(\u001b[0m\u001b[1;36m10\u001b[0m\u001b[1;33m)\u001b[0m\u001b[1;33m\u001b[0m\u001b[1;33m\u001b[0m\u001b[0m\n\u001b[0;32m      4\u001b[0m top_10.plot.bar(figsize=(9,5), fontsize=5.5, title = 'Najbolj priljubljene pasme').set(ylabel = \n\u001b[0;32m      5\u001b[0m                                                                         'število najbolj priljubljenih pasem', xlabel = '')\n",
      "\u001b[1;32mc:\\users\\tina's spectre\\appdata\\local\\programs\\python\\python37-32\\lib\\site-packages\\pandas\\core\\ops.py\u001b[0m in \u001b[0;36mwrapper\u001b[1;34m(self, other, axis)\u001b[0m\n\u001b[0;32m   1281\u001b[0m \u001b[1;33m\u001b[0m\u001b[0m\n\u001b[0;32m   1282\u001b[0m             \u001b[1;32mwith\u001b[0m \u001b[0mnp\u001b[0m\u001b[1;33m.\u001b[0m\u001b[0merrstate\u001b[0m\u001b[1;33m(\u001b[0m\u001b[0mall\u001b[0m\u001b[1;33m=\u001b[0m\u001b[1;34m'ignore'\u001b[0m\u001b[1;33m)\u001b[0m\u001b[1;33m:\u001b[0m\u001b[1;33m\u001b[0m\u001b[1;33m\u001b[0m\u001b[0m\n\u001b[1;32m-> 1283\u001b[1;33m                 \u001b[0mres\u001b[0m \u001b[1;33m=\u001b[0m \u001b[0mna_op\u001b[0m\u001b[1;33m(\u001b[0m\u001b[0mvalues\u001b[0m\u001b[1;33m,\u001b[0m \u001b[0mother\u001b[0m\u001b[1;33m)\u001b[0m\u001b[1;33m\u001b[0m\u001b[1;33m\u001b[0m\u001b[0m\n\u001b[0m\u001b[0;32m   1284\u001b[0m             \u001b[1;32mif\u001b[0m \u001b[0mis_scalar\u001b[0m\u001b[1;33m(\u001b[0m\u001b[0mres\u001b[0m\u001b[1;33m)\u001b[0m\u001b[1;33m:\u001b[0m\u001b[1;33m\u001b[0m\u001b[1;33m\u001b[0m\u001b[0m\n\u001b[0;32m   1285\u001b[0m                 raise TypeError('Could not compare {typ} type with Series'\n",
      "\u001b[1;32mc:\\users\\tina's spectre\\appdata\\local\\programs\\python\\python37-32\\lib\\site-packages\\pandas\\core\\ops.py\u001b[0m in \u001b[0;36mna_op\u001b[1;34m(x, y)\u001b[0m\n\u001b[0;32m   1141\u001b[0m \u001b[1;33m\u001b[0m\u001b[0m\n\u001b[0;32m   1142\u001b[0m         \u001b[1;32melif\u001b[0m \u001b[0mis_object_dtype\u001b[0m\u001b[1;33m(\u001b[0m\u001b[0mx\u001b[0m\u001b[1;33m.\u001b[0m\u001b[0mdtype\u001b[0m\u001b[1;33m)\u001b[0m\u001b[1;33m:\u001b[0m\u001b[1;33m\u001b[0m\u001b[1;33m\u001b[0m\u001b[0m\n\u001b[1;32m-> 1143\u001b[1;33m             \u001b[0mresult\u001b[0m \u001b[1;33m=\u001b[0m \u001b[0m_comp_method_OBJECT_ARRAY\u001b[0m\u001b[1;33m(\u001b[0m\u001b[0mop\u001b[0m\u001b[1;33m,\u001b[0m \u001b[0mx\u001b[0m\u001b[1;33m,\u001b[0m \u001b[0my\u001b[0m\u001b[1;33m)\u001b[0m\u001b[1;33m\u001b[0m\u001b[1;33m\u001b[0m\u001b[0m\n\u001b[0m\u001b[0;32m   1144\u001b[0m \u001b[1;33m\u001b[0m\u001b[0m\n\u001b[0;32m   1145\u001b[0m         \u001b[1;32melif\u001b[0m \u001b[0mis_datetimelike_v_numeric\u001b[0m\u001b[1;33m(\u001b[0m\u001b[0mx\u001b[0m\u001b[1;33m,\u001b[0m \u001b[0my\u001b[0m\u001b[1;33m)\u001b[0m\u001b[1;33m:\u001b[0m\u001b[1;33m\u001b[0m\u001b[1;33m\u001b[0m\u001b[0m\n",
      "\u001b[1;32mc:\\users\\tina's spectre\\appdata\\local\\programs\\python\\python37-32\\lib\\site-packages\\pandas\\core\\ops.py\u001b[0m in \u001b[0;36m_comp_method_OBJECT_ARRAY\u001b[1;34m(op, x, y)\u001b[0m\n\u001b[0;32m   1120\u001b[0m         \u001b[0mresult\u001b[0m \u001b[1;33m=\u001b[0m \u001b[0mlibops\u001b[0m\u001b[1;33m.\u001b[0m\u001b[0mvec_compare\u001b[0m\u001b[1;33m(\u001b[0m\u001b[0mx\u001b[0m\u001b[1;33m,\u001b[0m \u001b[0my\u001b[0m\u001b[1;33m,\u001b[0m \u001b[0mop\u001b[0m\u001b[1;33m)\u001b[0m\u001b[1;33m\u001b[0m\u001b[1;33m\u001b[0m\u001b[0m\n\u001b[0;32m   1121\u001b[0m     \u001b[1;32melse\u001b[0m\u001b[1;33m:\u001b[0m\u001b[1;33m\u001b[0m\u001b[1;33m\u001b[0m\u001b[0m\n\u001b[1;32m-> 1122\u001b[1;33m         \u001b[0mresult\u001b[0m \u001b[1;33m=\u001b[0m \u001b[0mlibops\u001b[0m\u001b[1;33m.\u001b[0m\u001b[0mscalar_compare\u001b[0m\u001b[1;33m(\u001b[0m\u001b[0mx\u001b[0m\u001b[1;33m,\u001b[0m \u001b[0my\u001b[0m\u001b[1;33m,\u001b[0m \u001b[0mop\u001b[0m\u001b[1;33m)\u001b[0m\u001b[1;33m\u001b[0m\u001b[1;33m\u001b[0m\u001b[0m\n\u001b[0m\u001b[0;32m   1123\u001b[0m     \u001b[1;32mreturn\u001b[0m \u001b[0mresult\u001b[0m\u001b[1;33m\u001b[0m\u001b[1;33m\u001b[0m\u001b[0m\n\u001b[0;32m   1124\u001b[0m \u001b[1;33m\u001b[0m\u001b[0m\n",
      "\u001b[1;32mpandas\\_libs\\ops.pyx\u001b[0m in \u001b[0;36mpandas._libs.ops.scalar_compare\u001b[1;34m()\u001b[0m\n",
      "\u001b[1;31mTypeError\u001b[0m: '<=' not supported between instances of 'str' and 'int'"
     ]
    }
   ],
   "source": [
    "najbolj_priljubljene = pasme_psov.popularnost.head(190).sort_values('popularnost', ascending = False)\n",
    "najbolj_priljubljene_pasme = najbolj_priljubljene.groupby('drzava')\n",
    "top_10 = najbolj_priljubljene_pasme.size().sort_values(ascending = False).head(10)\n",
    "top_10.plot.bar(figsize=(9,5), fontsize=5.5, title = 'Najbolj priljubljene pasme').set(ylabel = \n",
    "                                                                        'število najbolj priljubljenih pasem', xlabel = '')"
   ]
  },
  {
   "cell_type": "code",
   "execution_count": null,
   "metadata": {},
   "outputs": [],
   "source": []
  },
  {
   "cell_type": "code",
   "execution_count": null,
   "metadata": {},
   "outputs": [],
   "source": []
  }
 ],
 "metadata": {
  "kernelspec": {
   "display_name": "Python 3",
   "language": "python",
   "name": "python3"
  },
  "language_info": {
   "codemirror_mode": {
    "name": "ipython",
    "version": 3
   },
   "file_extension": ".py",
   "mimetype": "text/x-python",
   "name": "python",
   "nbconvert_exporter": "python",
   "pygments_lexer": "ipython3",
   "version": "3.7.1"
  }
 },
 "nbformat": 4,
 "nbformat_minor": 2
}
